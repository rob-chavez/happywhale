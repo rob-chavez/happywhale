{
 "cells": [
  {
   "cell_type": "markdown",
   "metadata": {
    "execution": {
     "iopub.execute_input": "2024-03-17T12:22:03.313881Z",
     "iopub.status.busy": "2024-03-17T12:22:03.312855Z",
     "iopub.status.idle": "2024-03-17T12:22:09.616756Z",
     "shell.execute_reply": "2024-03-17T12:22:09.615318Z",
     "shell.execute_reply.started": "2024-03-17T12:22:03.313812Z"
    }
   },
   "source": [
    "\n",
    "- This notebook was created within Kaggle. It is used to move the HappyHappy whale project data---over 64GBs--from Kaggle to a GCP cloud storage bucket. The intent is to use GCP storage and Google's Collab for this project."
   ]
  },
  {
   "cell_type": "code",
   "execution_count": null,
   "metadata": {},
   "outputs": [],
   "source": [
    "#PYTHON PACKAGE IMPORTS\n",
    "import os \n",
    "import time\n",
    "from google.cloud import storage\n",
    "from kaggle_secrets import UserSecretsClient\n",
    "\n",
    "\n",
    "#CONSTANTS\n",
    "PATH = \"/kaggle/input/happy-whale-and-dolphin\"\n",
    "folders = os.listdir(PATH)\n",
    "project = UserSecretsClient().get_secret(\"project\")\n",
    "storage_client = storage.Client(project=project)\n",
    "bucket_name = 'happywhales' \n",
    "\n",
    "#FUNCTIONS\n",
    "# function for creating the bucket at the google cloud services \n",
    "def create_bucket(bucket_name):\n",
    "    bucket = storage_client.create_bucket(bucket_name)\n",
    "    \n",
    "    \n",
    "#function for uploading the data from kaggle to google cloud services \n",
    "def upload_files(bucket_name, path, jpg_list):\n",
    "        \n",
    "    #get the bucket based on its name\n",
    "    bucket = storage_client.get_bucket(bucket_name)\n",
    "    \n",
    "    #loop through each folder\n",
    "    for folder in os.listdir(path):\n",
    "        \n",
    "        #skip CSV files -- added \"train_images\" condition after interuption \n",
    "        if (not folder == \"train_images\") and (not folder.endswith(\"csv\")):\n",
    "            \n",
    "            #loop through images in folder\n",
    "            for jpg in os.listdir(f\"{path}/{folder}\"):\n",
    "                \n",
    "                #skip jpgs already in jpg_list\n",
    "                if jpg in jpg_list:\n",
    "                    pass\n",
    "                \n",
    "                else:\n",
    "                    \n",
    "                    #path to the jpg\n",
    "                    filename = f\"{path}/{folder}/{jpg}\"\n",
    "                \n",
    "                    #create a bucket blob\n",
    "                    blob = bucket.blob(f\"{folder}/{jpg}\")\n",
    "                \n",
    "                    #upload to GCP\n",
    "                    blob.upload_from_filename(filename)\n",
    "                \n",
    "\n",
    "\n",
    "def list_blobs(bucket_name, prefix, delimiter):\n",
    "\n",
    "    blobs = storage_client.list_blobs(bucket_name, prefix=prefix, delimiter=delimiter)\n",
    "    \n",
    "    jpg_list = []   \n",
    "    for blob in blobs:\n",
    "        jpg = blob.name\n",
    "        jpg_list.append(jpg.split(\"/\")[1])\n",
    "        \n",
    "    return jpg_list"
   ]
  },
  {
   "cell_type": "code",
   "execution_count": 2,
   "metadata": {
    "execution": {
     "iopub.execute_input": "2024-03-17T12:22:13.573949Z",
     "iopub.status.busy": "2024-03-17T12:22:13.573225Z",
     "iopub.status.idle": "2024-03-17T12:22:13.807762Z",
     "shell.execute_reply": "2024-03-17T12:22:13.806730Z",
     "shell.execute_reply.started": "2024-03-17T12:22:13.573905Z"
    }
   },
   "outputs": [],
   "source": [
    "#CREATE BUCKET - only needs to be done once\n",
    "#create_bucket(bucket_name)  "
   ]
  },
  {
   "cell_type": "code",
   "execution_count": 3,
   "metadata": {
    "execution": {
     "iopub.execute_input": "2024-03-17T12:22:16.870943Z",
     "iopub.status.busy": "2024-03-17T12:22:16.870539Z",
     "iopub.status.idle": "2024-03-17T12:22:16.883642Z",
     "shell.execute_reply": "2024-03-17T12:22:16.882766Z",
     "shell.execute_reply.started": "2024-03-17T12:22:16.870911Z"
    }
   },
   "outputs": [],
   "source": [
    "# I had to move my data piecemeal. To track what I had already moved, a JPG list was used. \n",
    "# Whatever is in that list should not be recopied\n",
    "jpg_list = list_blobs(bucket_name, prefix=\"test_images/\", delimiter=False)\n",
    "len(jpg_list)"
   ]
  },
  {
   "cell_type": "code",
   "execution_count": 8,
   "metadata": {
    "execution": {
     "iopub.execute_input": "2024-03-17T12:52:43.190184Z",
     "iopub.status.busy": "2024-03-17T12:52:43.189528Z",
     "iopub.status.idle": "2024-03-17T12:52:45.233780Z",
     "shell.execute_reply": "2024-03-17T12:52:45.232451Z",
     "shell.execute_reply.started": "2024-03-17T12:52:43.190097Z"
    }
   },
   "outputs": [],
   "source": [
    "#UPLOAD DATA TO GOOGLE CLOUD STORAGE\n",
    "upload_files(bucket_name, PATH, jpg_list)"
   ]
  }
 ],
 "metadata": {
  "kaggle": {
   "accelerator": "none",
   "dataSources": [
    {
     "databundleVersionId": 3171193,
     "sourceId": 22962,
     "sourceType": "competition"
    }
   ],
   "dockerImageVersionId": 30664,
   "isGpuEnabled": false,
   "isInternetEnabled": true,
   "language": "python",
   "sourceType": "notebook"
  },
  "kernelspec": {
   "display_name": "Python 3 (ipykernel)",
   "language": "python",
   "name": "python3"
  },
  "language_info": {
   "codemirror_mode": {
    "name": "ipython",
    "version": 3
   },
   "file_extension": ".py",
   "mimetype": "text/x-python",
   "name": "python",
   "nbconvert_exporter": "python",
   "pygments_lexer": "ipython3",
   "version": "3.10.8"
  }
 },
 "nbformat": 4,
 "nbformat_minor": 4
}
